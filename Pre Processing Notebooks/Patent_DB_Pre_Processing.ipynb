{
 "cells": [
  {
   "cell_type": "code",
   "execution_count": null,
   "metadata": {
    "id": "sWeba5ZReY8B"
   },
   "outputs": [],
   "source": [
    "import psycopg2\n",
    "\n",
    "import pandas as pd\n",
    "import numpy as np\n",
    "\n",
    "!pip install pycountry\n",
    "import pycountry"
   ]
  },
  {
   "cell_type": "markdown",
   "metadata": {
    "id": "wpjsVh-L7dDq"
   },
   "source": [
    "## Postgres Connection"
   ]
  },
  {
   "cell_type": "code",
   "execution_count": null,
   "metadata": {
    "colab": {
     "base_uri": "https://localhost:8080/"
    },
    "id": "Cvf1VEleeabK",
    "outputId": "c06f3b00-5ee3-41e5-9789-0abb61bc267b"
   },
   "outputs": [
    {
     "data": {
      "text/plain": [
       "<connection object at 0x7f7edd328040; dsn: 'user=ag_class password=xxx dbname=postgres host=awesome-hw.sdsc.edu port=5432', closed: 0>"
      ]
     },
     "execution_count": 2,
     "metadata": {},
     "output_type": "execute_result"
    }
   ],
   "source": [
    "conn = psycopg2.connect(\n",
    "    host=\"awesome-hw.sdsc.edu\",\n",
    "    port=\"5432\",\n",
    "    database=\"postgres\",\n",
    "    user=\"ag_class\",\n",
    "    password=\"WUcgdfQ1\")\n",
    "\n",
    "conn"
   ]
  },
  {
   "cell_type": "code",
   "execution_count": null,
   "metadata": {
    "id": "_nZagX3EecHF"
   },
   "outputs": [],
   "source": [
    "cursor = conn.cursor()"
   ]
  },
  {
   "cell_type": "markdown",
   "metadata": {
    "id": "vk0rukAT7qw5"
   },
   "source": [
    "## Extracting Data from PostgreSQL Patent DB"
   ]
  },
  {
   "cell_type": "code",
   "execution_count": null,
   "metadata": {
    "id": "LjN8iSuTed-P"
   },
   "outputs": [],
   "source": [
    "query1 = '''\n",
    "SELECT * FROM postgres.public.patentdb \n",
    "'''\n",
    "\n",
    "data_df = pd.read_sql(query1, conn)"
   ]
  },
  {
   "cell_type": "code",
   "execution_count": null,
   "metadata": {
    "colab": {
     "base_uri": "https://localhost:8080/"
    },
    "id": "2AMPXlDvegCQ",
    "outputId": "d57e2d82-9af0-48de-9b40-4a75d381d02c"
   },
   "outputs": [
    {
     "data": {
      "text/plain": [
       "Index(['patentid', 'application_number', 'inventor_name',\n",
       "       'assignee_name_origin', 'assignee_name_current', 'time_events', 'cite',\n",
       "       'classification', 'classname', 'countrycode', 'abstract', 'title', 'id',\n",
       "       'issuing_country'],\n",
       "      dtype='object')"
      ]
     },
     "execution_count": 5,
     "metadata": {},
     "output_type": "execute_result"
    }
   ],
   "source": [
    "data_df.columns"
   ]
  },
  {
   "cell_type": "markdown",
   "metadata": {
    "id": "a3RyQtfT76Ov"
   },
   "source": [
    "## Function to get industries"
   ]
  },
  {
   "cell_type": "code",
   "execution_count": null,
   "metadata": {
    "id": "jFVLGNvJuByq"
   },
   "outputs": [],
   "source": [
    "def extract_industry(row):\n",
    "    class_arr = row[\"classname\"]\n",
    "    if len(class_arr) == 0:\n",
    "        return None\n",
    "    else : \n",
    "        class_arr1 = [ele for ele in class_arr if len(ele.split())<5]\n",
    "        class_set = set(class_arr1)\n",
    "        class_set = {y for x in class_set for y in x.split('; ')}\n",
    "        class_arr2 = list(class_set)\n",
    "        class_arr2.sort(key=lambda x: len(x.split()))\n",
    "        class_arr2 = class_arr2[:10]\n",
    "        return class_arr2"
   ]
  },
  {
   "cell_type": "markdown",
   "metadata": {
    "id": "a1utTRZT7_Op"
   },
   "source": [
    "## Function to get files and granted date"
   ]
  },
  {
   "cell_type": "code",
   "execution_count": null,
   "metadata": {
    "id": "Vy2TPUjty6vY"
   },
   "outputs": [],
   "source": [
    "def extract_date(row):\n",
    "    class_arr = row[\"time_events\"]\n",
    "    if len(class_arr) == 0:\n",
    "        return None,None\n",
    "    else : \n",
    "      try:\n",
    "        temp1 = [d['date'] for d in class_arr if d['title']=='filed']\n",
    "        temp2 = [d['date'] for d in class_arr if d['title']=='granted']\n",
    "        return temp1[0],temp2[0]\n",
    "      except:\n",
    "        return None,None"
   ]
  },
  {
   "cell_type": "markdown",
   "metadata": {
    "id": "-VPSoW5k8Uk8"
   },
   "source": [
    "## Function to get Country Name from Country Code"
   ]
  },
  {
   "cell_type": "code",
   "execution_count": null,
   "metadata": {
    "id": "Ty69SAce-cvx"
   },
   "outputs": [],
   "source": [
    "def country_name(i):\n",
    "  \n",
    "  try: \n",
    "    if len(i)==3:\n",
    "      return pycountry.countries.get(alpha_3=i).name\n",
    "    elif len(i)==2:\n",
    "      return pycountry.countries.get(alpha_2=i).name\n",
    "    else:\n",
    "      return None\n",
    "  except:\n",
    "    if i == 'EP':\n",
    "      return 'European Patent Office'\n",
    "    if i== 'WO':\n",
    "      return 'World Intellectual Property Organisation'\n",
    "    if i== 'EA':\n",
    "      return 'Eurasian Patent Organisation'\n",
    "    if i== 'CS':\n",
    "      return 'Czech Republic and Slovakia'\n",
    "    if i== 'SU':\n",
    "      return 'Soviet Union' \n",
    "    if i== 'DD':\n",
    "      return 'German Democratic Republic'\n",
    "    if i== 'OA':\n",
    "      return 'African Intellectual Property Organization'\n",
    "    if i== 'AP':\n",
    "      return 'Asia/Pacific Region' \n",
    "    if i== 'YU':\n",
    "      return 'Yugoslavia' \n",
    "    else:\n",
    "      print(i)\n",
    "      return None"
   ]
  },
  {
   "cell_type": "markdown",
   "metadata": {
    "id": "HKw_BBjH8cPC"
   },
   "source": [
    "## Function to get Country Name from Country Code"
   ]
  },
  {
   "cell_type": "code",
   "execution_count": null,
   "metadata": {
    "id": "eVhV3gmtWUiz"
   },
   "outputs": [],
   "source": [
    "def get_countrycode(i):\n",
    "\n",
    "  if i== 'European Patent Office (EPO)':\n",
    "      return 'EP'\n",
    "  if i== 'Taiwan Province of China':\n",
    "      return 'TW'\n",
    "  if i== 'Republic of Korea':\n",
    "      return 'KR'\n",
    "  if i== 'Eurasian Patent Organization (EAPO)':\n",
    "      return 'EA'\n",
    "  if i== 'African Intellectual Property Organization (OAPI)':\n",
    "      return 'OA'\n",
    "  if i== 'African Regional Intellectual Property Organization ':\n",
    "      return 'AP'\n",
    "  if i =='German Democratic Republic':\n",
    "      return 'DD'\n",
    "  if i =='World Intellectual Property Organization':\n",
    "      return 'WO'\n",
    "  if i =='USSR':\n",
    "      return 'SU'\n",
    "  if i =='Czechoslovakia':\n",
    "      return 'CS'\n",
    "  if i =='USSR':\n",
    "      return 'SU'\n",
    "  \n",
    "  try:\n",
    "    return pycountry.countries.get(official_name=i).alpha_2\n",
    "  except:\n",
    "    return pycountry.countries.get(name=i).alpha_2"
   ]
  },
  {
   "cell_type": "markdown",
   "metadata": {
    "id": "fCscde8W8mB8"
   },
   "source": [
    "## Creating CSVs for Nodes and Relationships"
   ]
  },
  {
   "cell_type": "code",
   "execution_count": null,
   "metadata": {
    "id": "bJzme5fGehL7"
   },
   "outputs": [],
   "source": [
    "data_df['assignee_name_current'] = np.where(data_df['assignee_name_current'].astype(str)[0] == '[]', data_df['assignee_name_origin'], data_df['assignee_name_current'])"
   ]
  },
  {
   "cell_type": "code",
   "execution_count": null,
   "metadata": {
    "id": "_iCbb9MDrAEP"
   },
   "outputs": [],
   "source": [
    "organisations = data_df['assignee_name_current'].explode()\n",
    "\n",
    "mask_nonascii = organisations.map(lambda x: len(str(x).encode('ascii', errors='ignore')) != len(str(x)))"
   ]
  },
  {
   "cell_type": "code",
   "execution_count": null,
   "metadata": {
    "id": "xyQdXL7wqrhV"
   },
   "outputs": [],
   "source": [
    "organisations[~mask_nonascii].drop_duplicates().to_csv('Organizations.csv',index=False)"
   ]
  },
  {
   "cell_type": "code",
   "execution_count": null,
   "metadata": {
    "id": "Azlk8tf-gnyQ"
   },
   "outputs": [],
   "source": [
    "organizations_new = organisations[~mask_nonascii].str.strip().drop_duplicates().replace(np.nan,'').sort_values(ascending=False).reset_index(drop=True)"
   ]
  },
  {
   "cell_type": "code",
   "execution_count": null,
   "metadata": {
    "id": "p5ME3vGHr4UF"
   },
   "outputs": [],
   "source": [
    "organizations_new = organizations_new.map(lambda x: x.lstrip('*').strip())"
   ]
  },
  {
   "cell_type": "code",
   "execution_count": null,
   "metadata": {
    "id": "4Ha_uBfms4tr"
   },
   "outputs": [],
   "source": [
    "organizations_new = organizations_new[organizations_new!=''].str.title()"
   ]
  },
  {
   "cell_type": "code",
   "execution_count": null,
   "metadata": {
    "id": "NsdAhLWJttns"
   },
   "outputs": [],
   "source": [
    "organizations_new.to_csv('Organizations.csv',index=False)"
   ]
  },
  {
   "cell_type": "code",
   "execution_count": null,
   "metadata": {
    "id": "LyEse4RGu-tt"
   },
   "outputs": [],
   "source": [
    "data_df[\"clean_industry\"] = data_df.apply(lambda row : extract_industry(row), axis=1)"
   ]
  },
  {
   "cell_type": "code",
   "execution_count": null,
   "metadata": {
    "id": "BRLYvSD1vEKH"
   },
   "outputs": [],
   "source": [
    "industry = data_df[\"clean_industry\"].explode().sort_values()"
   ]
  },
  {
   "cell_type": "code",
   "execution_count": null,
   "metadata": {
    "id": "Ee1lYib8vKXi"
   },
   "outputs": [],
   "source": [
    "industry = industry[(industry!='') & (~industry.isnull())].drop_duplicates().str.strip().str.title()"
   ]
  },
  {
   "cell_type": "code",
   "execution_count": null,
   "metadata": {
    "id": "bD2e6jg0vcW4"
   },
   "outputs": [],
   "source": [
    "industry.to_csv('Industries.csv',index=False)"
   ]
  },
  {
   "cell_type": "code",
   "execution_count": null,
   "metadata": {
    "id": "I3RcKczuwULh"
   },
   "outputs": [],
   "source": [
    "patents = data_df[['patentid', 'inventor_name', 'time_events', 'countrycode', 'title','issuing_country']]"
   ]
  },
  {
   "cell_type": "code",
   "execution_count": null,
   "metadata": {
    "colab": {
     "base_uri": "https://localhost:8080/"
    },
    "id": "TjRtEp1ey26O",
    "outputId": "9e73fa63-8b79-4f7f-f0ec-bdaac46e70fc"
   },
   "outputs": [
    {
     "name": "stderr",
     "output_type": "stream",
     "text": [
      "<ipython-input-20-ddfbc51994c9>:1: SettingWithCopyWarning: \n",
      "A value is trying to be set on a copy of a slice from a DataFrame.\n",
      "Try using .loc[row_indexer,col_indexer] = value instead\n",
      "\n",
      "See the caveats in the documentation: https://pandas.pydata.org/pandas-docs/stable/user_guide/indexing.html#returning-a-view-versus-a-copy\n",
      "  patents['Filed Date'],patents['Granted Date'] = zip(*patents.apply(lambda row : extract_date(row), axis=1))\n"
     ]
    }
   ],
   "source": [
    "patents['Filed Date'],patents['Granted Date'] = zip(*patents.apply(lambda row : extract_date(row), axis=1))"
   ]
  },
  {
   "cell_type": "code",
   "execution_count": null,
   "metadata": {
    "id": "iNCaoQhQylgx"
   },
   "outputs": [],
   "source": [
    "patents = patents.drop(\"time_events\",axis=1).explode('inventor_name').explode('countrycode')"
   ]
  },
  {
   "cell_type": "code",
   "execution_count": null,
   "metadata": {
    "id": "jBROqxVz4sAr"
   },
   "outputs": [],
   "source": [
    "patents = patents.drop_duplicates().dropna()"
   ]
  },
  {
   "cell_type": "code",
   "execution_count": null,
   "metadata": {
    "id": "xEEPfroY5qUt"
   },
   "outputs": [],
   "source": [
    "mask_nonascii = patents['inventor_name'].map(lambda x: len(str(x).encode('ascii', errors='ignore')) != len(str(x)))"
   ]
  },
  {
   "cell_type": "code",
   "execution_count": null,
   "metadata": {
    "id": "760CqLMd5GBV"
   },
   "outputs": [],
   "source": [
    "patents = patents[~mask_nonascii].drop_duplicates().dropna()"
   ]
  },
  {
   "cell_type": "code",
   "execution_count": null,
   "metadata": {
    "colab": {
     "base_uri": "https://localhost:8080/"
    },
    "id": "hBkKXq6g6PdY",
    "outputId": "a13d88c5-8b9e-4960-a4aa-f128600600aa"
   },
   "outputs": [
    {
     "data": {
      "text/plain": [
       "Index(['patentid', 'inventor_name', 'countrycode', 'title', 'issuing_country',\n",
       "       'Filed Date', 'Granted Date'],\n",
       "      dtype='object')"
      ]
     },
     "execution_count": 25,
     "metadata": {},
     "output_type": "execute_result"
    }
   ],
   "source": [
    "patents.columns"
   ]
  },
  {
   "cell_type": "code",
   "execution_count": null,
   "metadata": {
    "id": "x3ANGAvg5lTA"
   },
   "outputs": [],
   "source": [
    "patents = patents.groupby(['patentid', 'title', 'issuing_country','Filed Date', 'Granted Date'],as_index=False).agg({'inventor_name': 'unique','countrycode': 'unique'})"
   ]
  },
  {
   "cell_type": "code",
   "execution_count": null,
   "metadata": {
    "id": "PylApZlE7ru6"
   },
   "outputs": [],
   "source": [
    "patents['inventor_name'] = patents['inventor_name'].str.join(',')\n",
    "patents['countrycode'] = patents['countrycode'].str.join(',')"
   ]
  },
  {
   "cell_type": "code",
   "execution_count": null,
   "metadata": {
    "id": "PoYu7Nvk56AD"
   },
   "outputs": [],
   "source": [
    "patents.to_csv('Patents.csv',index=False)"
   ]
  },
  {
   "cell_type": "code",
   "execution_count": null,
   "metadata": {
    "id": "9FHaXAlWIlpG"
   },
   "outputs": [],
   "source": [
    "patent_industry = data_df[['patentid','clean_industry']].explode('clean_industry')"
   ]
  },
  {
   "cell_type": "code",
   "execution_count": null,
   "metadata": {
    "id": "JCVZ2gfSJI1j"
   },
   "outputs": [],
   "source": [
    "patent_industry = patent_industry[(patent_industry['clean_industry']!='') & (~patent_industry['clean_industry'].isnull())]"
   ]
  },
  {
   "cell_type": "code",
   "execution_count": null,
   "metadata": {
    "id": "brJtzddmKHlF"
   },
   "outputs": [],
   "source": [
    "patent_industry['clean_industry'] = patent_industry['clean_industry'].str.strip().str.title()"
   ]
  },
  {
   "cell_type": "code",
   "execution_count": null,
   "metadata": {
    "id": "uNvo50mwKKGo"
   },
   "outputs": [],
   "source": [
    "patent_industry = patent_industry[patent_industry['patentid'].isin(patents['patentid'].unique())].drop_duplicates()"
   ]
  },
  {
   "cell_type": "code",
   "execution_count": null,
   "metadata": {
    "id": "AOWhXQ1hKbTg"
   },
   "outputs": [],
   "source": [
    "patent_industry.to_csv('Patent_Industry.csv',index=False)"
   ]
  },
  {
   "cell_type": "code",
   "execution_count": null,
   "metadata": {
    "id": "lbEV0WfdLI8p"
   },
   "outputs": [],
   "source": [
    "patent_assignee = data_df[['patentid','assignee_name_current']].explode('assignee_name_current').drop_duplicates()"
   ]
  },
  {
   "cell_type": "code",
   "execution_count": null,
   "metadata": {
    "id": "KKC1X9ylNG_n"
   },
   "outputs": [],
   "source": [
    "mask_nonascii = patent_assignee['assignee_name_current'].map(lambda x: len(str(x).encode('ascii', errors='ignore')) != len(str(x)))"
   ]
  },
  {
   "cell_type": "code",
   "execution_count": null,
   "metadata": {
    "colab": {
     "base_uri": "https://localhost:8080/",
     "height": 424
    },
    "id": "zmKLITTWNu70",
    "outputId": "9c282d15-8d04-433e-df32-40980a5011d5"
   },
   "outputs": [
    {
     "data": {
      "text/html": [
       "\n",
       "  <div id=\"df-7357533d-9e0a-4594-b2ab-ed798d934c6e\">\n",
       "    <div class=\"colab-df-container\">\n",
       "      <div>\n",
       "<style scoped>\n",
       "    .dataframe tbody tr th:only-of-type {\n",
       "        vertical-align: middle;\n",
       "    }\n",
       "\n",
       "    .dataframe tbody tr th {\n",
       "        vertical-align: top;\n",
       "    }\n",
       "\n",
       "    .dataframe thead th {\n",
       "        text-align: right;\n",
       "    }\n",
       "</style>\n",
       "<table border=\"1\" class=\"dataframe\">\n",
       "  <thead>\n",
       "    <tr style=\"text-align: right;\">\n",
       "      <th></th>\n",
       "      <th>patentid</th>\n",
       "      <th>assignee_name_current</th>\n",
       "    </tr>\n",
       "  </thead>\n",
       "  <tbody>\n",
       "    <tr>\n",
       "      <th>0</th>\n",
       "      <td>US7635039B2</td>\n",
       "      <td>Mitsubishi Heavy Industries Ltd</td>\n",
       "    </tr>\n",
       "    <tr>\n",
       "      <th>1</th>\n",
       "      <td>US4904344A</td>\n",
       "      <td>Valmet Technologies Oy</td>\n",
       "    </tr>\n",
       "    <tr>\n",
       "      <th>1</th>\n",
       "      <td>US4904344A</td>\n",
       "      <td>Mitsubishi Heavy Industries Ltd</td>\n",
       "    </tr>\n",
       "    <tr>\n",
       "      <th>2</th>\n",
       "      <td>US7982327B2</td>\n",
       "      <td>Mitsubishi Heavy Industries Ltd</td>\n",
       "    </tr>\n",
       "    <tr>\n",
       "      <th>3</th>\n",
       "      <td>US6607353B2</td>\n",
       "      <td>Mitsubishi Heavy Industries Ltd</td>\n",
       "    </tr>\n",
       "    <tr>\n",
       "      <th>...</th>\n",
       "      <td>...</td>\n",
       "      <td>...</td>\n",
       "    </tr>\n",
       "    <tr>\n",
       "      <th>156035</th>\n",
       "      <td>US8413929B2</td>\n",
       "      <td>Mitsubishi Heavy Industries Ltd</td>\n",
       "    </tr>\n",
       "    <tr>\n",
       "      <th>156036</th>\n",
       "      <td>US6818072B2</td>\n",
       "      <td>Mitsubishi Heavy Industries Ltd</td>\n",
       "    </tr>\n",
       "    <tr>\n",
       "      <th>156037</th>\n",
       "      <td>US6573493B1</td>\n",
       "      <td>Mitsubishi Heavy Industries Ltd</td>\n",
       "    </tr>\n",
       "    <tr>\n",
       "      <th>156038</th>\n",
       "      <td>US6338371B1</td>\n",
       "      <td>Mitsubishi Heavy Industries Ltd</td>\n",
       "    </tr>\n",
       "    <tr>\n",
       "      <th>156039</th>\n",
       "      <td>US7436928B2</td>\n",
       "      <td>Hitachi Ltd</td>\n",
       "    </tr>\n",
       "  </tbody>\n",
       "</table>\n",
       "<p>165126 rows × 2 columns</p>\n",
       "</div>\n",
       "      <button class=\"colab-df-convert\" onclick=\"convertToInteractive('df-7357533d-9e0a-4594-b2ab-ed798d934c6e')\"\n",
       "              title=\"Convert this dataframe to an interactive table.\"\n",
       "              style=\"display:none;\">\n",
       "        \n",
       "  <svg xmlns=\"http://www.w3.org/2000/svg\" height=\"24px\"viewBox=\"0 0 24 24\"\n",
       "       width=\"24px\">\n",
       "    <path d=\"M0 0h24v24H0V0z\" fill=\"none\"/>\n",
       "    <path d=\"M18.56 5.44l.94 2.06.94-2.06 2.06-.94-2.06-.94-.94-2.06-.94 2.06-2.06.94zm-11 1L8.5 8.5l.94-2.06 2.06-.94-2.06-.94L8.5 2.5l-.94 2.06-2.06.94zm10 10l.94 2.06.94-2.06 2.06-.94-2.06-.94-.94-2.06-.94 2.06-2.06.94z\"/><path d=\"M17.41 7.96l-1.37-1.37c-.4-.4-.92-.59-1.43-.59-.52 0-1.04.2-1.43.59L10.3 9.45l-7.72 7.72c-.78.78-.78 2.05 0 2.83L4 21.41c.39.39.9.59 1.41.59.51 0 1.02-.2 1.41-.59l7.78-7.78 2.81-2.81c.8-.78.8-2.07 0-2.86zM5.41 20L4 18.59l7.72-7.72 1.47 1.35L5.41 20z\"/>\n",
       "  </svg>\n",
       "      </button>\n",
       "      \n",
       "  <style>\n",
       "    .colab-df-container {\n",
       "      display:flex;\n",
       "      flex-wrap:wrap;\n",
       "      gap: 12px;\n",
       "    }\n",
       "\n",
       "    .colab-df-convert {\n",
       "      background-color: #E8F0FE;\n",
       "      border: none;\n",
       "      border-radius: 50%;\n",
       "      cursor: pointer;\n",
       "      display: none;\n",
       "      fill: #1967D2;\n",
       "      height: 32px;\n",
       "      padding: 0 0 0 0;\n",
       "      width: 32px;\n",
       "    }\n",
       "\n",
       "    .colab-df-convert:hover {\n",
       "      background-color: #E2EBFA;\n",
       "      box-shadow: 0px 1px 2px rgba(60, 64, 67, 0.3), 0px 1px 3px 1px rgba(60, 64, 67, 0.15);\n",
       "      fill: #174EA6;\n",
       "    }\n",
       "\n",
       "    [theme=dark] .colab-df-convert {\n",
       "      background-color: #3B4455;\n",
       "      fill: #D2E3FC;\n",
       "    }\n",
       "\n",
       "    [theme=dark] .colab-df-convert:hover {\n",
       "      background-color: #434B5C;\n",
       "      box-shadow: 0px 1px 3px 1px rgba(0, 0, 0, 0.15);\n",
       "      filter: drop-shadow(0px 1px 2px rgba(0, 0, 0, 0.3));\n",
       "      fill: #FFFFFF;\n",
       "    }\n",
       "  </style>\n",
       "\n",
       "      <script>\n",
       "        const buttonEl =\n",
       "          document.querySelector('#df-7357533d-9e0a-4594-b2ab-ed798d934c6e button.colab-df-convert');\n",
       "        buttonEl.style.display =\n",
       "          google.colab.kernel.accessAllowed ? 'block' : 'none';\n",
       "\n",
       "        async function convertToInteractive(key) {\n",
       "          const element = document.querySelector('#df-7357533d-9e0a-4594-b2ab-ed798d934c6e');\n",
       "          const dataTable =\n",
       "            await google.colab.kernel.invokeFunction('convertToInteractive',\n",
       "                                                     [key], {});\n",
       "          if (!dataTable) return;\n",
       "\n",
       "          const docLinkHtml = 'Like what you see? Visit the ' +\n",
       "            '<a target=\"_blank\" href=https://colab.research.google.com/notebooks/data_table.ipynb>data table notebook</a>'\n",
       "            + ' to learn more about interactive tables.';\n",
       "          element.innerHTML = '';\n",
       "          dataTable['output_type'] = 'display_data';\n",
       "          await google.colab.output.renderOutput(dataTable, element);\n",
       "          const docLink = document.createElement('div');\n",
       "          docLink.innerHTML = docLinkHtml;\n",
       "          element.appendChild(docLink);\n",
       "        }\n",
       "      </script>\n",
       "    </div>\n",
       "  </div>\n",
       "  "
      ],
      "text/plain": [
       "           patentid            assignee_name_current\n",
       "0       US7635039B2  Mitsubishi Heavy Industries Ltd\n",
       "1        US4904344A           Valmet Technologies Oy\n",
       "1        US4904344A  Mitsubishi Heavy Industries Ltd\n",
       "2       US7982327B2  Mitsubishi Heavy Industries Ltd\n",
       "3       US6607353B2  Mitsubishi Heavy Industries Ltd\n",
       "...             ...                              ...\n",
       "156035  US8413929B2  Mitsubishi Heavy Industries Ltd\n",
       "156036  US6818072B2  Mitsubishi Heavy Industries Ltd\n",
       "156037  US6573493B1  Mitsubishi Heavy Industries Ltd\n",
       "156038  US6338371B1  Mitsubishi Heavy Industries Ltd\n",
       "156039  US7436928B2                      Hitachi Ltd\n",
       "\n",
       "[165126 rows x 2 columns]"
      ]
     },
     "execution_count": 36,
     "metadata": {},
     "output_type": "execute_result"
    }
   ],
   "source": [
    "patent_assignee = data_df[['patentid','assignee_name_current']].explode('assignee_name_current').drop_duplicates()\n",
    "patent_assignee[~mask_nonascii]"
   ]
  },
  {
   "cell_type": "code",
   "execution_count": null,
   "metadata": {
    "id": "knF7JUOJNzze"
   },
   "outputs": [],
   "source": [
    "patent_assignee['assignee_name_current']=patent_assignee['assignee_name_current'].str.strip().replace(np.nan,'')"
   ]
  },
  {
   "cell_type": "code",
   "execution_count": null,
   "metadata": {
    "id": "aAc42q28N3I7"
   },
   "outputs": [],
   "source": [
    "patent_assignee['assignee_name_current'] = patent_assignee['assignee_name_current'].map(lambda x: x.lstrip('*').strip()).str.title()"
   ]
  },
  {
   "cell_type": "code",
   "execution_count": null,
   "metadata": {
    "id": "SwWI7_p8OSa8"
   },
   "outputs": [],
   "source": [
    "patent_assignee = patent_assignee[patent_assignee['assignee_name_current']!=''].drop_duplicates().reset_index(drop=True)"
   ]
  },
  {
   "cell_type": "code",
   "execution_count": null,
   "metadata": {
    "id": "ZFgRAzOEOi_X"
   },
   "outputs": [],
   "source": [
    "patent_assignee.to_csv(\"Patent_Assignee.csv\",index=False)"
   ]
  },
  {
   "cell_type": "code",
   "execution_count": null,
   "metadata": {
    "id": "u639dMOV7SH5"
   },
   "outputs": [],
   "source": [
    "patent_country = data_df[['patentid','countrycode']].explode('countrycode').drop_duplicates().reset_index(drop=True)"
   ]
  },
  {
   "cell_type": "code",
   "execution_count": null,
   "metadata": {
    "colab": {
     "base_uri": "https://localhost:8080/"
    },
    "id": "D9w9dSURIDOf",
    "outputId": "3202c40e-b5da-4cfb-9d19-063b482609f5"
   },
   "outputs": [
    {
     "data": {
      "text/plain": [
       "(350017, 2)"
      ]
     },
     "execution_count": 42,
     "metadata": {},
     "output_type": "execute_result"
    }
   ],
   "source": [
    "patent_country.shape"
   ]
  },
  {
   "cell_type": "code",
   "execution_count": null,
   "metadata": {
    "id": "AEnCkrXl_0hD"
   },
   "outputs": [],
   "source": [
    "patent_country = patent_country.dropna()"
   ]
  },
  {
   "cell_type": "code",
   "execution_count": null,
   "metadata": {
    "id": "1_v6Yt5X7SKb"
   },
   "outputs": [],
   "source": [
    "country = patent_country['countrycode'].drop_duplicates().reset_index(drop=True)"
   ]
  },
  {
   "cell_type": "code",
   "execution_count": null,
   "metadata": {
    "id": "ygaBoXnuJ_Yg"
   },
   "outputs": [],
   "source": [
    "country = pd.DataFrame(country)"
   ]
  },
  {
   "cell_type": "code",
   "execution_count": null,
   "metadata": {
    "id": "xyXzGvqE8w9f"
   },
   "outputs": [],
   "source": [
    "country['countryname'] = country['countrycode'].apply(country_name)"
   ]
  },
  {
   "cell_type": "code",
   "execution_count": null,
   "metadata": {
    "id": "iY47efIt8zO8"
   },
   "outputs": [],
   "source": [
    "country.to_csv('Countries.csv',index=False)"
   ]
  },
  {
   "cell_type": "code",
   "execution_count": null,
   "metadata": {
    "id": "sjwUa93P98H_"
   },
   "outputs": [],
   "source": []
  },
  {
   "cell_type": "code",
   "execution_count": null,
   "metadata": {
    "id": "yJGuVPv7UnQ4"
   },
   "outputs": [],
   "source": [
    "patent_country = data_df[['patentid','issuing_country']].dropna().drop_duplicates().reset_index(drop=True)\n",
    "patent_country.to_csv('Patent_IssuingCountry.csv',index=False)"
   ]
  },
  {
   "cell_type": "code",
   "execution_count": null,
   "metadata": {
    "id": "5OQcq8NjUpWV"
   },
   "outputs": [],
   "source": [
    "issuingcountry = pd.DataFrame(patent_country['issuing_country'].drop_duplicates().reset_index(drop=True))"
   ]
  },
  {
   "cell_type": "code",
   "execution_count": null,
   "metadata": {
    "colab": {
     "base_uri": "https://localhost:8080/",
     "height": 424
    },
    "id": "y2pslIxpWQnx",
    "outputId": "0fcf978f-f40f-4dcf-8968-1e6a34374e43"
   },
   "outputs": [
    {
     "data": {
      "text/html": [
       "\n",
       "  <div id=\"df-8389269a-530a-4d31-a1b5-390463b6891e\">\n",
       "    <div class=\"colab-df-container\">\n",
       "      <div>\n",
       "<style scoped>\n",
       "    .dataframe tbody tr th:only-of-type {\n",
       "        vertical-align: middle;\n",
       "    }\n",
       "\n",
       "    .dataframe tbody tr th {\n",
       "        vertical-align: top;\n",
       "    }\n",
       "\n",
       "    .dataframe thead th {\n",
       "        text-align: right;\n",
       "    }\n",
       "</style>\n",
       "<table border=\"1\" class=\"dataframe\">\n",
       "  <thead>\n",
       "    <tr style=\"text-align: right;\">\n",
       "      <th></th>\n",
       "      <th>patentid</th>\n",
       "      <th>issuing_country</th>\n",
       "    </tr>\n",
       "  </thead>\n",
       "  <tbody>\n",
       "    <tr>\n",
       "      <th>0</th>\n",
       "      <td>US7635039B2</td>\n",
       "      <td>United States of America</td>\n",
       "    </tr>\n",
       "    <tr>\n",
       "      <th>1</th>\n",
       "      <td>US4904344A</td>\n",
       "      <td>United States of America</td>\n",
       "    </tr>\n",
       "    <tr>\n",
       "      <th>2</th>\n",
       "      <td>US7982327B2</td>\n",
       "      <td>United States of America</td>\n",
       "    </tr>\n",
       "    <tr>\n",
       "      <th>3</th>\n",
       "      <td>US6607353B2</td>\n",
       "      <td>United States of America</td>\n",
       "    </tr>\n",
       "    <tr>\n",
       "      <th>4</th>\n",
       "      <td>US7030354B2</td>\n",
       "      <td>United States of America</td>\n",
       "    </tr>\n",
       "    <tr>\n",
       "      <th>...</th>\n",
       "      <td>...</td>\n",
       "      <td>...</td>\n",
       "    </tr>\n",
       "    <tr>\n",
       "      <th>78886</th>\n",
       "      <td>US8413929B2</td>\n",
       "      <td>United States of America</td>\n",
       "    </tr>\n",
       "    <tr>\n",
       "      <th>78887</th>\n",
       "      <td>US6818072B2</td>\n",
       "      <td>United States of America</td>\n",
       "    </tr>\n",
       "    <tr>\n",
       "      <th>78888</th>\n",
       "      <td>US6573493B1</td>\n",
       "      <td>United States of America</td>\n",
       "    </tr>\n",
       "    <tr>\n",
       "      <th>78889</th>\n",
       "      <td>US6338371B1</td>\n",
       "      <td>United States of America</td>\n",
       "    </tr>\n",
       "    <tr>\n",
       "      <th>78890</th>\n",
       "      <td>US7436928B2</td>\n",
       "      <td>United States of America</td>\n",
       "    </tr>\n",
       "  </tbody>\n",
       "</table>\n",
       "<p>78891 rows × 2 columns</p>\n",
       "</div>\n",
       "      <button class=\"colab-df-convert\" onclick=\"convertToInteractive('df-8389269a-530a-4d31-a1b5-390463b6891e')\"\n",
       "              title=\"Convert this dataframe to an interactive table.\"\n",
       "              style=\"display:none;\">\n",
       "        \n",
       "  <svg xmlns=\"http://www.w3.org/2000/svg\" height=\"24px\"viewBox=\"0 0 24 24\"\n",
       "       width=\"24px\">\n",
       "    <path d=\"M0 0h24v24H0V0z\" fill=\"none\"/>\n",
       "    <path d=\"M18.56 5.44l.94 2.06.94-2.06 2.06-.94-2.06-.94-.94-2.06-.94 2.06-2.06.94zm-11 1L8.5 8.5l.94-2.06 2.06-.94-2.06-.94L8.5 2.5l-.94 2.06-2.06.94zm10 10l.94 2.06.94-2.06 2.06-.94-2.06-.94-.94-2.06-.94 2.06-2.06.94z\"/><path d=\"M17.41 7.96l-1.37-1.37c-.4-.4-.92-.59-1.43-.59-.52 0-1.04.2-1.43.59L10.3 9.45l-7.72 7.72c-.78.78-.78 2.05 0 2.83L4 21.41c.39.39.9.59 1.41.59.51 0 1.02-.2 1.41-.59l7.78-7.78 2.81-2.81c.8-.78.8-2.07 0-2.86zM5.41 20L4 18.59l7.72-7.72 1.47 1.35L5.41 20z\"/>\n",
       "  </svg>\n",
       "      </button>\n",
       "      \n",
       "  <style>\n",
       "    .colab-df-container {\n",
       "      display:flex;\n",
       "      flex-wrap:wrap;\n",
       "      gap: 12px;\n",
       "    }\n",
       "\n",
       "    .colab-df-convert {\n",
       "      background-color: #E8F0FE;\n",
       "      border: none;\n",
       "      border-radius: 50%;\n",
       "      cursor: pointer;\n",
       "      display: none;\n",
       "      fill: #1967D2;\n",
       "      height: 32px;\n",
       "      padding: 0 0 0 0;\n",
       "      width: 32px;\n",
       "    }\n",
       "\n",
       "    .colab-df-convert:hover {\n",
       "      background-color: #E2EBFA;\n",
       "      box-shadow: 0px 1px 2px rgba(60, 64, 67, 0.3), 0px 1px 3px 1px rgba(60, 64, 67, 0.15);\n",
       "      fill: #174EA6;\n",
       "    }\n",
       "\n",
       "    [theme=dark] .colab-df-convert {\n",
       "      background-color: #3B4455;\n",
       "      fill: #D2E3FC;\n",
       "    }\n",
       "\n",
       "    [theme=dark] .colab-df-convert:hover {\n",
       "      background-color: #434B5C;\n",
       "      box-shadow: 0px 1px 3px 1px rgba(0, 0, 0, 0.15);\n",
       "      filter: drop-shadow(0px 1px 2px rgba(0, 0, 0, 0.3));\n",
       "      fill: #FFFFFF;\n",
       "    }\n",
       "  </style>\n",
       "\n",
       "      <script>\n",
       "        const buttonEl =\n",
       "          document.querySelector('#df-8389269a-530a-4d31-a1b5-390463b6891e button.colab-df-convert');\n",
       "        buttonEl.style.display =\n",
       "          google.colab.kernel.accessAllowed ? 'block' : 'none';\n",
       "\n",
       "        async function convertToInteractive(key) {\n",
       "          const element = document.querySelector('#df-8389269a-530a-4d31-a1b5-390463b6891e');\n",
       "          const dataTable =\n",
       "            await google.colab.kernel.invokeFunction('convertToInteractive',\n",
       "                                                     [key], {});\n",
       "          if (!dataTable) return;\n",
       "\n",
       "          const docLinkHtml = 'Like what you see? Visit the ' +\n",
       "            '<a target=\"_blank\" href=https://colab.research.google.com/notebooks/data_table.ipynb>data table notebook</a>'\n",
       "            + ' to learn more about interactive tables.';\n",
       "          element.innerHTML = '';\n",
       "          dataTable['output_type'] = 'display_data';\n",
       "          await google.colab.output.renderOutput(dataTable, element);\n",
       "          const docLink = document.createElement('div');\n",
       "          docLink.innerHTML = docLinkHtml;\n",
       "          element.appendChild(docLink);\n",
       "        }\n",
       "      </script>\n",
       "    </div>\n",
       "  </div>\n",
       "  "
      ],
      "text/plain": [
       "          patentid           issuing_country\n",
       "0      US7635039B2  United States of America\n",
       "1       US4904344A  United States of America\n",
       "2      US7982327B2  United States of America\n",
       "3      US6607353B2  United States of America\n",
       "4      US7030354B2  United States of America\n",
       "...            ...                       ...\n",
       "78886  US8413929B2  United States of America\n",
       "78887  US6818072B2  United States of America\n",
       "78888  US6573493B1  United States of America\n",
       "78889  US6338371B1  United States of America\n",
       "78890  US7436928B2  United States of America\n",
       "\n",
       "[78891 rows x 2 columns]"
      ]
     },
     "execution_count": 60,
     "metadata": {},
     "output_type": "execute_result"
    }
   ],
   "source": [
    "patent_country"
   ]
  },
  {
   "cell_type": "code",
   "execution_count": null,
   "metadata": {
    "colab": {
     "base_uri": "https://localhost:8080/"
    },
    "id": "hglkJvK2VK1B",
    "outputId": "c1c86c27-fe76-4e22-9750-e2c454adf174"
   },
   "outputs": [
    {
     "data": {
      "text/plain": [
       "Country(alpha_2='US', alpha_3='USA', flag='🇺🇸', name='United States', numeric='840', official_name='United States of America')"
      ]
     },
     "execution_count": 63,
     "metadata": {},
     "output_type": "execute_result"
    }
   ],
   "source": [
    "pycountry.countries.get(alpha_3='USA')"
   ]
  },
  {
   "cell_type": "code",
   "execution_count": null,
   "metadata": {
    "id": "04qynTtVWfn-"
   },
   "outputs": [],
   "source": [
    "issuingcountry['countrycode'] = issuingcountry['issuing_country'].apply(get_countryname)"
   ]
  },
  {
   "cell_type": "code",
   "execution_count": null,
   "metadata": {
    "id": "L8S232-QaSJ9"
   },
   "outputs": [],
   "source": [
    "patent_country['countrycode'] = patent_country['issuing_country'].apply(get_countryname)"
   ]
  },
  {
   "cell_type": "code",
   "execution_count": null,
   "metadata": {
    "id": "Q9bSC0ixWsh-"
   },
   "outputs": [],
   "source": [
    "issuingcountry[['countrycode','issuing_country']].to_csv('IssuingCountryCode.csv',index=False)"
   ]
  },
  {
   "cell_type": "code",
   "execution_count": null,
   "metadata": {
    "id": "japjYfs7ZvVj"
   },
   "outputs": [],
   "source": [
    "patent_country[['patentid','countrycode']].to_csv('PatentIssuingCouuntryCode.csv',index=False)"
   ]
  },
  {
   "cell_type": "code",
   "execution_count": null,
   "metadata": {
    "id": "Ff1aToCIaWhy"
   },
   "outputs": [],
   "source": []
  }
 ],
 "metadata": {
  "accelerator": "GPU",
  "colab": {
   "provenance": []
  },
  "gpuClass": "standard",
  "kernelspec": {
   "display_name": "Python 3 (ipykernel)",
   "language": "python",
   "name": "python3"
  },
  "language_info": {
   "codemirror_mode": {
    "name": "ipython",
    "version": 3
   },
   "file_extension": ".py",
   "mimetype": "text/x-python",
   "name": "python",
   "nbconvert_exporter": "python",
   "pygments_lexer": "ipython3",
   "version": "3.9.12"
  }
 },
 "nbformat": 4,
 "nbformat_minor": 1
}
