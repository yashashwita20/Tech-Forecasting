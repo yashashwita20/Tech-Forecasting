{
 "cells": [
  {
   "cell_type": "code",
   "execution_count": null,
   "id": "521f2f46",
   "metadata": {},
   "outputs": [],
   "source": [
    "!pip install neo4j\n",
    "!pip install graphdatascience"
   ]
  },
  {
   "cell_type": "code",
   "execution_count": null,
   "id": "475b4481",
   "metadata": {},
   "outputs": [],
   "source": [
    "import logging\n",
    "import sys\n",
    "\n",
    "from neo4j import GraphDatabase\n",
    "from neo4j.exceptions import ServiceUnavailable"
   ]
  },
  {
   "cell_type": "markdown",
   "id": "598b76c3",
   "metadata": {},
   "source": [
    "## Establish Neo4j connection"
   ]
  },
  {
   "cell_type": "code",
   "execution_count": null,
   "id": "c05e67a8",
   "metadata": {},
   "outputs": [],
   "source": [
    "# ## Credentials - Sheetal\n",
    "# NEO4J_URI=\"neo4j+s://046bad63.databases.neo4j.io\"\n",
    "# NEO4J_USERNAME=\"neo4j\"\n",
    "# NEO4J_PASSWORD=\"I13rxtvRV7ki8rIwqnQ69SXGCW6C5LXslL6yzJZ20XA\"\n",
    "# AURA_INSTANCENAME=\"Instance01\"\n",
    "\n",
    "## Credentials - local instance (neo4j desktop)\n",
    "NEO4J_URI=\"neo4j://localhost:7687\"\n",
    "NEO4J_USERNAME=\"neo4j\"\n",
    "NEO4J_PASSWORD=\"dsc202\"\n",
    "\n",
    "# Connection\n",
    "driver = GraphDatabase.driver(NEO4J_URI, auth=(NEO4J_USERNAME, NEO4J_PASSWORD))"
   ]
  },
  {
   "cell_type": "code",
   "execution_count": null,
   "id": "7e963dd0",
   "metadata": {},
   "outputs": [],
   "source": [
    "session = driver.session()"
   ]
  },
  {
   "cell_type": "markdown",
   "id": "ce036ed5",
   "metadata": {},
   "source": [
    "## Importing Nodes from CSV"
   ]
  },
  {
   "cell_type": "code",
   "execution_count": null,
   "id": "6f12287a",
   "metadata": {},
   "outputs": [],
   "source": [
    "q1 = '''\n",
    "LOAD CSV WITH HEADERS FROM \"file:///Industries.csv\" AS row\n",
    "MERGE (i:Industry {industryId:row.title})\n",
    "RETURN count(i);\n",
    "'''\n",
    "session.execute_write(q1)"
   ]
  },
  {
   "cell_type": "code",
   "execution_count": null,
   "id": "7bd3da88",
   "metadata": {},
   "outputs": [],
   "source": [
    "q2 = '''\n",
    "LOAD CSV WITH HEADERS FROM \"file:///Assignees.csv\" AS row\n",
    "MERGE (a:Assignee {assigneeName:row.current_assignee})\n",
    "RETURN count(a);\n",
    "'''\n",
    "session.execute_write(q2)"
   ]
  },
  {
   "cell_type": "code",
   "execution_count": null,
   "id": "b6d0486e",
   "metadata": {},
   "outputs": [],
   "source": [
    "q3 = '''\n",
    "LOAD CSV WITH HEADERS FROM \"file:///Patents.csv\" AS row\n",
    "MERGE (p:Patent {patentId:row.patentid})\n",
    "SET p.inventors = row.inventor_list\n",
    "RETURN count(c);\n",
    "'''\n",
    "session.execute_write(q3)"
   ]
  },
  {
   "cell_type": "code",
   "execution_count": null,
   "id": "6f4b0844",
   "metadata": {},
   "outputs": [],
   "source": [
    "q4 = '''\n",
    "LOAD CSV WITH HEADERS FROM \"file:///Countries.csv\" AS row\n",
    "MERGE (c:Country {countryId:row.countrycode})\n",
    "SET c.countryName = row.countryname\n",
    "RETURN count(c);\n",
    "'''\n",
    "session.execute_write(q4)"
   ]
  },
  {
   "cell_type": "markdown",
   "id": "30e0783f",
   "metadata": {},
   "source": [
    "## Importing relationships from CSV"
   ]
  },
  {
   "cell_type": "code",
   "execution_count": null,
   "id": "f71a77d9",
   "metadata": {},
   "outputs": [],
   "source": [
    "q5 = '''\n",
    "LOAD CSV WITH HEADERS FROM \"file:///Patent_Assignee.csv\" AS row\n",
    "MATCH (p:Patent {patentId:row.patentid}), (a:Assignee {assigneeName:row.assignee_name_current})\n",
    "MERGE (p)-[rel:ASSIGNED_TO]->(a)\n",
    "RETURN count(rel);\n",
    "'''\n",
    "session.execute_write(q5)"
   ]
  },
  {
   "cell_type": "code",
   "execution_count": null,
   "id": "2aef3c6b",
   "metadata": {},
   "outputs": [],
   "source": [
    "q6 = '''\n",
    "LOAD CSV WITH HEADERS FROM \"file:///Patent_Industry.csv\" AS row\n",
    "MATCH (p:Patent {patentId:row.patentid}), (i:Industry {industryId:row.clean_industry})\n",
    "MERGE (p)-[rel:BELONGS_TO]->(i)\n",
    "RETURN count(rel);\n",
    "'''\n",
    "session.execute_write(q6)"
   ]
  },
  {
   "cell_type": "code",
   "execution_count": null,
   "id": "8bf32904",
   "metadata": {},
   "outputs": [],
   "source": [
    "q7 = '''\n",
    "LOAD CSV WITH HEADERS FROM \"file:///Assignee_Industry.csv\" AS row\n",
    "MATCH (a:Assignee {assigneeName:row.title}), (i:Industry {industryId:row.industry})\n",
    "MERGE (a)-[rel:BELONGS_TO]->(i)\n",
    "RETURN count(rel);\n",
    "'''\n",
    "session.execute_write(q7)"
   ]
  },
  {
   "cell_type": "code",
   "execution_count": null,
   "id": "476db09f",
   "metadata": {},
   "outputs": [],
   "source": [
    "q8 = '''\n",
    "LOAD CSV WITH HEADERS FROM \"file:///Patent_Country.csv\" AS row\n",
    "MATCH (p:Patent {patentId:row.patentid}), (c:Country {countryId:row.countrycode})\n",
    "MERGE (p)-[r:VALID_IN]->(c)\n",
    "RETURN count(r);\n",
    "'''\n",
    "session.execute_write(q8)"
   ]
  },
  {
   "cell_type": "code",
   "execution_count": null,
   "id": "fbb07896",
   "metadata": {},
   "outputs": [],
   "source": [
    "q9 = '''\n",
    "LOAD CSV WITH HEADERS FROM \"file:///PatentIssuingCouuntryCode.csv\" AS row\n",
    "MATCH (p:Patent {patentId:row.patentid}), (c:Country {countryId:row.countrycode})\n",
    "MERGE (p)-[r:ISSUED_BY]->(c)\n",
    "RETURN count(r);\n",
    "'''\n",
    "session.execute_write(q9)"
   ]
  },
  {
   "cell_type": "markdown",
   "id": "f4a79360",
   "metadata": {},
   "source": [
    "## Neo4j test query"
   ]
  },
  {
   "cell_type": "code",
   "execution_count": null,
   "id": "9c5e8a72",
   "metadata": {},
   "outputs": [],
   "source": [
    "q10 = '''MATCH (a:Assignee)-[r:BELONGS_TO]->(i:Industry)\n",
    "WITH a, i, size((a)-->()) AS outgoingCount\n",
    "ORDER BY outgoingCount DESC\n",
    "RETURN DISTINCT a, i, outgoingCount\n",
    "LIMIT 100000;'''\n",
    "\n",
    "result = session.run(q10)\n",
    "result.data()"
   ]
  },
  {
   "cell_type": "code",
   "execution_count": null,
   "id": "aaaa80ba",
   "metadata": {},
   "outputs": [],
   "source": [
    "session.close()\n",
    "driver.close()"
   ]
  }
 ],
 "metadata": {
  "kernelspec": {
   "display_name": "Python 3 (ipykernel)",
   "language": "python",
   "name": "python3"
  },
  "language_info": {
   "codemirror_mode": {
    "name": "ipython",
    "version": 3
   },
   "file_extension": ".py",
   "mimetype": "text/x-python",
   "name": "python",
   "nbconvert_exporter": "python",
   "pygments_lexer": "ipython3",
   "version": "3.9.12"
  }
 },
 "nbformat": 4,
 "nbformat_minor": 5
}
